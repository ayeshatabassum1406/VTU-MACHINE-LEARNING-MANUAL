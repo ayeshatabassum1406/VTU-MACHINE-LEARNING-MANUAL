{
 "cells": [
  {
   "cell_type": "code",
   "execution_count": 1,
   "metadata": {},
   "outputs": [],
   "source": [
    "  \n",
    "import numpy as np\n",
    "import math\n",
    "import csv\n",
    "import pdb"
   ]
  },
  {
   "cell_type": "code",
   "execution_count": 2,
   "metadata": {},
   "outputs": [],
   "source": [
    "def read_data(filename):\n",
    "\n",
    "    with open(filename,'r') as csvfile:\n",
    "        datareader = csv.reader(csvfile)\n",
    "        metadata = next(datareader)\n",
    "        traindata=[]\n",
    "        for row in datareader:\n",
    "            traindata.append(row)\n",
    "    return (metadata, traindata)"
   ]
  },
  {
   "cell_type": "code",
   "execution_count": 3,
   "metadata": {},
   "outputs": [],
   "source": [
    "def splitDataset(dataset, splitRatio):\n",
    "    trainSize = int(len(dataset) * splitRatio)\n",
    "    trainSet = []\n",
    "    testset = list(dataset)\n",
    "    i=0\n",
    "    while len(trainSet) < trainSize:\n",
    "        trainSet.append(testset.pop(i))\n",
    "    return [trainSet, testset]\n"
   ]
  },
  {
   "cell_type": "code",
   "execution_count": 4,
   "metadata": {},
   "outputs": [],
   "source": [
    "def classify(data,test):\n",
    "\n",
    "    total_size = data.shape[0]\n",
    "    print(\"training data size=\",total_size)\n",
    "    print(\"test data size=\",test.shape[0])\n",
    "\n",
    "    countYes = 0\n",
    "    countNo = 0\n",
    "    probYes = 0\n",
    "    probNo = 0\n",
    "    print(\"target    count    probability\")\n",
    "\n",
    "    for x in range(data.shape[0]):\n",
    "        if data[x,data.shape[1]-1] == 'yes':\n",
    "            countYes +=1\n",
    "        if data[x,data.shape[1]-1] == 'no':\n",
    "            countNo +=1\n",
    "\n",
    "    probYes=countYes/total_size\n",
    "    probNo= countNo / total_size\n",
    "\n",
    "    print('Yes',\"\\t\",countYes,\"\\t\",probYes)\n",
    "    print('No',\"\\t\",countNo,\"\\t\",probNo)\n",
    "    \n",
    "    prob0 =np.zeros((test.shape[1]-1))\n",
    "    prob1 =np.zeros((test.shape[1]-1))\n",
    "    accuracy=0\n",
    "    print(\"instance prediction  target\")\n",
    "\n",
    "    for t in range(test.shape[0]):\n",
    "        for k in range (test.shape[1]-1):\n",
    "            count1=count0=0\n",
    "            for j in range (data.shape[0]):\n",
    "                #how many times appeared with no\n",
    "                if test[t,k] == data[j,k] and data[j,data.shape[1]-1]=='no':\n",
    "                    count0+=1\n",
    "                #how many times appeared with yes\n",
    "                if test[t,k]==data[j,k] and data[j,data.shape[1]-1]=='yes':\n",
    "                    count1+=1\n",
    "            prob0[k]=count0/countNo\n",
    "            prob1[k]=count1/countYes\n",
    "\n",
    "        probno=probNo\n",
    "        probyes=probYes\n",
    "        for i in range(test.shape[1]-1):\n",
    "            probno=probno*prob0[i]\n",
    "            probyes=probyes*prob1[i]\n",
    "        if probno>probyes:\n",
    "            predict='no'\n",
    "        else:\n",
    "            predict='yes'\n",
    "\n",
    "        print(t+1,\"\\t\",predict,\"\\t    \",test[t,test.shape[1]-1])\n",
    "        if predict == test[t,test.shape[1]-1]:\n",
    "            accuracy+=1\n",
    "    final_accuracy=(accuracy/test.shape[0])*100\n",
    "    print(\"accuracy\",final_accuracy,\"%\")\n",
    "    return"
   ]
  },
  {
   "cell_type": "code",
   "execution_count": 13,
   "metadata": {
    "scrolled": true
   },
   "outputs": [
    {
     "name": "stdout",
     "output_type": "stream",
     "text": [
      "split 15 rows into train=9 and test=5 rows\n",
      "training data size= 9\n",
      "test data size= 5\n",
      "target    count    probability\n",
      "Yes \t 5 \t 0.5555555555555556\n",
      "No \t 4 \t 0.4444444444444444\n",
      "instance prediction  target\n",
      "1 \t yes \t     yes\n",
      "2 \t no \t     yes\n",
      "3 \t yes \t     yes\n",
      "4 \t yes \t     yes\n",
      "5 \t no \t     no\n",
      "accuracy 80.0 %\n"
     ]
    }
   ],
   "source": [
    "\n",
    "metadata,traindata= read_data(\"naivedata.csv\")\n",
    "splitRatio=0.67\n",
    "trainingset, testset=splitDataset(traindata, splitRatio)\n",
    "training=np.array(trainingset)\n",
    "testing=np.array(testset)\n",
    "print('split {0} rows into train={1} and test={2} rows'.format(len(traindata)+1,len(trainingset),len(testset)))\n",
    "classify(training,testing)"
   ]
  },
  {
   "cell_type": "code",
   "execution_count": null,
   "metadata": {},
   "outputs": [],
   "source": []
  },
  {
   "cell_type": "code",
   "execution_count": null,
   "metadata": {},
   "outputs": [],
   "source": []
  }
 ],
 "metadata": {
  "kernelspec": {
   "display_name": "Python 3",
   "language": "python",
   "name": "python3"
  },
  "language_info": {
   "codemirror_mode": {
    "name": "ipython",
    "version": 3
   },
   "file_extension": ".py",
   "mimetype": "text/x-python",
   "name": "python",
   "nbconvert_exporter": "python",
   "pygments_lexer": "ipython3",
   "version": "3.7.6"
  }
 },
 "nbformat": 4,
 "nbformat_minor": 4
}
